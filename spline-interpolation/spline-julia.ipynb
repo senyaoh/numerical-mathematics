{
 "cells": [
  {
   "cell_type": "markdown",
   "metadata": {},
   "source": [
    "### Aufgabe 5.1 & 5.2"
   ]
  },
  {
   "cell_type": "markdown",
   "metadata": {},
   "source": [
    "- Gegeben: Stützwerte $y_{0}, \\ldots, y_{n}$ an den Knoten $x_{0}, \\ldots, x_{n}$.\n",
    "- Gesucht: Spline $s \\in S\\left(3,\\left\\{x_{0}, \\ldots, x_{n}\\right\\}\\right)$ mit $s\\left(x_{j}\\right)=y_{j}$.\n",
    "- Ansatz:\n",
    "$$\n",
    "s(x)=\\sum_{k=-3}^{n-1} c_{k} N_{k}^{3}(x) .\n",
    "$$\n",
    "- Problem: $n+1$ Bedingungen für $n+3$ Freiheitsgrade.\n",
    "- Weitere Annahmen:\n",
    "1. Natürlicher Spline: $s^{\\prime \\prime}\\left(x_{0}\\right)=s^{\\prime \\prime}\\left(x_{n}\\right)=0$,\n",
    "2. Hermitescher Spline: $s^{\\prime}\\left(x_{0}\\right)=y_{0}^{\\prime}, s^{\\prime}\\left(x_{n}\\right)=y_{n}^{\\prime}$,\n",
    "3. Periodischer Spline: $s^{\\prime \\prime}\\left(x_{0}\\right)=s^{\\prime \\prime}\\left(x_{n}\\right), s^{\\prime}\\left(x_{0}\\right)=s^{\\prime}\\left(x_{n}\\right)$."
   ]
  },
  {
   "cell_type": "markdown",
   "metadata": {},
   "source": [
    "- Die zweite Ableitung ist stückweise linear, d.h.\n",
    "$$\n",
    "s^{\\prime \\prime}(x)=M_{j-1} \\frac{x_{j}-x}{h_{j}}+M_{j} \\frac{x-x_{j-1}}{h_{j}}, \\quad x \\in l_{j}:=\\left[x_{j-1}, x_{j}\\right], \\quad h_{j}:=x_{j}-x_{j-1} .\n",
    "$$\n",
    "- Zweimalige Integration liefert\n",
    "$$\n",
    "s(x)=M_{j-1} \\frac{\\left(x_{j}-x\\right)^{3}}{6 h_{j}}+M_{j} \\frac{\\left(x-x_{j-1}\\right)^{3}}{6 h_{j}}+c_{j} \\frac{x_{j}-x}{h_{j}}+d_{j} \\frac{x-x_{j-1}}{h_{j}} .\n",
    "$$\n",
    "- Aus den Interpolationsbedingung $s\\left(x_{j}\\right)=y_{j}$ erhalten wir\n",
    "$$\n",
    "c_{j}=y_{j-1}-\\frac{1}{6} M_{j-1} h_{j}^{2} \\quad \\text { und } \\quad d_{j}=y_{j}-\\frac{1}{6} M_{j} h_{j}^{2} .\n",
    "$$\n",
    "- Einsetzen liefert\n",
    "$$\n",
    "s(x)=M_{j-1} \\frac{\\left(x_{j}-x\\right)^{3}}{6 h_{j}}+M_{j} \\frac{\\left(x-x_{j-1}\\right)^{3}}{6 h_{j}}+\\left(y_{j-1}-\\frac{1}{6} M_{j-1} h_{j}^{2}\\right) \\frac{x_{j}-x}{h_{j}}+\\left(y_{j}-\\frac{1}{6} M_{j} h_{j}^{2}\\right) \\frac{x-x_{j-1}}{h_{j}} .\n",
    "$$"
   ]
  },
  {
   "cell_type": "markdown",
   "metadata": {},
   "source": [
    "- Wir betrachten die Ableitungen des kubischen Splines\n",
    "$$\n",
    "s(x)=M_{j-1} \\frac{\\left(x_{j}-x\\right)^{3}}{6 h_{j}}+M_{j} \\frac{\\left(x-x_{j-1}\\right)^{3}}{6 h_{j}}+\\left(y_{j-1}-\\frac{1}{6} M_{j-1} h_{j}^{2}\\right) \\frac{x_{j}-x}{h_{j}}+\\left(y_{j}-\\frac{1}{6} M_{j} h_{j}^{2}\\right) \\frac{x-x_{j-1}}{h_{j}}\n",
    "$$\n",
    "welche gegeben ist durch\n",
    "$$\n",
    "S^{\\prime}(x)=-M_{j-1} \\frac{\\left(x_{j}-x\\right)^{2}}{2 h_{j}}+M_{j} \\frac{\\left(x-x_{j-1}\\right)^{2}}{2 h_{j}}+\\frac{y_{j}-y_{j-1}}{h_{j}}-\\frac{M_{j}-M_{j-1}}{6} h_{j}\n",
    "$$\n",
    "- Für die Randwerte $x_{j-1}$ und $x_{j}$ erhalten wir\n",
    "$$\n",
    "s^{\\prime}\\left(x_{j-1}^{+}\\right)=-\\frac{h_{j}}{3} M_{j-1}-\\frac{h_{j}}{6} M_{j}+\\frac{y_{j}-y_{j-1}}{h_{j}} \\quad \\text { und } \\quad s^{\\prime}\\left(x_{j}^{-}\\right)=\\frac{h_{j}}{6} M_{j-1}+\\frac{h_{j}}{3} M_{j}+\\frac{y_{j}-y_{j-1}}{h_{j}} \\text {. }\n",
    "$$\n",
    "- Gleichsetzen der rechts- und linksseitigen Ableitung für $x_{j}$ liefert\n",
    "$$\n",
    "\\frac{h_{j}}{6} M_{j-1}+\\frac{h_{j}+h_{j+1}}{3} M_{j}+\\frac{h_{j+1}}{6} M_{j+1}=\\frac{y_{j+1}-y_{j}}{h_{j+1}}-\\frac{y_{j}-y_{j-1}}{h_{j}} \\quad \\text { für } \\quad j=1, \\ldots, n-1 .\n",
    "$$"
   ]
  },
  {
   "cell_type": "markdown",
   "metadata": {},
   "source": [
    "Natürlicher kubischer Spline\n",
    "- Natürliche Randbedingungen: $M_{0}=M_{n}=0$.\n",
    "- Einsetzen von $M_{0}$ und $M_{n}$ liefert\n",
    "$$\n",
    "\\left[\\begin{array}{ccccc}\n",
    "\\left(h_{1}+h_{2}\\right) / 3 & h_{2} / 6 & 0 & \\cdots & 0 \\\\\n",
    "h_{2} / 6 & \\left(h_{2}+h_{3}\\right) / 3 & h_{3} / 6 & \\ddots & \\vdots \\\\\n",
    "0 & h_{3} / 6 & \\ddots & \\ddots & 0 \\\\\n",
    "\\vdots & \\ddots & \\ddots & \\ddots & h_{n-1 / 6} \\\\\n",
    "0 & \\cdots & 0 & h_{n-1} / 6 & \\left(h_{n-1}+h_{n}\\right) / 3\n",
    "\\end{array}\\right]\\left[\\begin{array}{c}\n",
    "M_{1} \\\\\n",
    "\\vdots \\\\\n",
    "M_{i} \\\\\n",
    "\\vdots \\\\\n",
    "M_{n-1}\n",
    "\\end{array}\\right]=\\left[\\begin{array}{c}\n",
    "\\frac{y_{2}-y_{1}}{h_{2}}-\\frac{y_{1}-y_{0}}{h_{1}} \\\\\n",
    "\\vdots \\\\\n",
    "\\frac{y_{i+1}-y_{i}}{h_{i+1}}-\\frac{y_{i}-y_{i-1}}{h_{i}} \\\\\n",
    "\\vdots \\\\\n",
    "\\frac{y_{n}-y_{n-1}}{h_{n}}-\\frac{y_{n-1}-y_{n-2}}{h_{n-1}}\n",
    "\\end{array}\\right] .\n",
    "$$"
   ]
  },
  {
   "cell_type": "markdown",
   "metadata": {},
   "source": [
    "Hermitescher kubischer Spline\n",
    "- Hermitesche Randbedingungen: $s^{\\prime}\\left(x_{0}\\right)=y_{0}^{\\prime}, s^{\\prime}\\left(x_{n}\\right)=y_{n}^{\\prime}$.\n",
    "- Die Randableitungen sind gegeben durch\n",
    "$$\n",
    "s^{\\prime}\\left(x_{0}^{+}\\right)=-\\frac{h_{1}}{3} M_{0}-\\frac{h_{1}}{6} M_{1}+\\frac{y_{1}-y_{0}}{h_{1}} \\quad \\text { und } \\quad s^{\\prime}\\left(x_{n}^{-}\\right)=\\frac{h_{n}}{6} M_{n-1}+\\frac{h_{n}}{3} M_{n}+\\frac{y_{n}-y_{n-1}}{h_{n}} \\text {. }\n",
    "$$\n",
    "- Hinzufügen der Randbedingungen liefert\n",
    "$$\n",
    "\\left[\\begin{array}{cccccc}\n",
    "h_{1} / 3 & h_{1} / 6 & 0 & \\cdots & \\cdots & 0 \\\\\n",
    "h_{1} / 6 & \\left(h_{1}+h_{2}\\right) / 3 & h_{2} / 6 & \\ddots & & \\vdots \\\\\n",
    "0 & h_{2} / 6 & \\ddots & \\ddots & \\ddots & \\vdots \\\\\n",
    "\\vdots & \\ddots & \\ddots & \\ddots & h_{n-1 / 6} & 0 \\\\\n",
    "\\vdots & & \\ddots & h_{n-1 / 6} & \\left(h_{n-1}+h_{n}\\right) / 3 & h_{n} / 6 \\\\\n",
    "0 & \\cdots & \\cdots & 0 & h_{n} / 6 & h_{n} / 3\n",
    "\\end{array}\\right]\\left[\\begin{array}{c}\n",
    "M_{0} \\\\\n",
    "\\vdots \\\\\n",
    "M_{i} \\\\\n",
    "\\vdots \\\\\n",
    "M_{n}\n",
    "\\end{array}\\right]=\\left[\\begin{array}{c}\n",
    "\\frac{y_{1}-y_{0}}{h_{1}}-y_{0}^{\\prime} \\\\\n",
    "\\frac{y_{2}-y_{1}}{h_{2}}-\\frac{y_{1}-y_{0}}{h_{1}} \\\\\n",
    "\\vdots \\\\\n",
    "\\frac{y_{i+1}-y_{i}}{h_{i+1}}-\\frac{y_{i}-y_{i-1}}{h_{i}} \\\\\n",
    "\\vdots \\\\\n",
    "\\frac{y_{n}-y_{n-1}}{h_{n}}-\\frac{y_{n-1}-y_{n-2}}{h_{n-1}} \\\\\n",
    "y_{n}^{\\prime}-\\frac{y_{n}-y_{n-1}}{h_{n}}\n",
    "\\end{array}\\right] .\n",
    "$$"
   ]
  },
  {
   "cell_type": "code",
   "execution_count": 2,
   "metadata": {},
   "outputs": [],
   "source": [
    "using LinearAlgebra"
   ]
  },
  {
   "cell_type": "code",
   "execution_count": 37,
   "metadata": {},
   "outputs": [
    {
     "data": {
      "text/plain": [
       "get_natural_cubic_spline_matrix (generic function with 1 method)"
      ]
     },
     "execution_count": 37,
     "metadata": {},
     "output_type": "execute_result"
    }
   ],
   "source": [
    "function get_natural_cubic_spline_matrix(h)\n",
    "    u_diag = h/6\n",
    "    diag = (vcat(h,[0]) + vcat([0], h))/3\n",
    "    H = diagm(1 => u_diag, -1 => u_diag, 0=> diag)\n",
    "    return H\n",
    "end"
   ]
  },
  {
   "cell_type": "code",
   "execution_count": 39,
   "metadata": {},
   "outputs": [
    {
     "data": {
      "text/plain": [
       "7×7 Matrix{Float64}:\n",
       " 0.333333  0.166667  0.0       0.0       0.0       0.0       0.0\n",
       " 0.166667  1.0       0.333333  0.0       0.0       0.0       0.0\n",
       " 0.0       0.333333  1.66667   0.5       0.0       0.0       0.0\n",
       " 0.0       0.0       0.5       2.33333   0.666667  0.0       0.0\n",
       " 0.0       0.0       0.0       0.666667  3.0       0.833333  0.0\n",
       " 0.0       0.0       0.0       0.0       0.833333  3.66667   1.0\n",
       " 0.0       0.0       0.0       0.0       0.0       1.0       2.0"
      ]
     },
     "execution_count": 39,
     "metadata": {},
     "output_type": "execute_result"
    }
   ],
   "source": [
    "h = [1,2,3,4,5,6]\n",
    "get_natural_cubic_spline_matrix(h)"
   ]
  },
  {
   "cell_type": "code",
   "execution_count": null,
   "metadata": {},
   "outputs": [],
   "source": []
  }
 ],
 "metadata": {
  "kernelspec": {
   "display_name": "Julia 1.7.2",
   "language": "julia",
   "name": "julia-1.7"
  },
  "language_info": {
   "file_extension": ".jl",
   "mimetype": "application/julia",
   "name": "julia",
   "version": "1.7.2"
  }
 },
 "nbformat": 4,
 "nbformat_minor": 2
}
